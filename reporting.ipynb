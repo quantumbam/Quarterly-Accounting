#previously was using a filepath of '../excel/Q3_2021.xlsx'

import pandas as pd

def audit():
   
    print('what quarter?'.upper())
    b = input()
    c = '_'
    print('what year?'.upper())
    d = input()
    print('',end="\n\n\n")
    e = '.xlsx'
    filename = b+c+d+e
    
    if b == 'Q1':    
        month = ['january','february','march']
        df = pd.read_excel(filename,sheet_name=month)
        m_0 = round(df['january']['sale'].sum(),2)
        m_1 = round(df['february']['sale'].sum(),2)
        m_2 = round(df['march']['sale'].sum(),2)
        print('THIS IS THE Q1 REPORT',end="\n\n\n")
        
    if b == 'Q2':    
        month = ['april','may','june']
        df = pd.read_excel(filename,sheet_name=month)
        m_0 = round(df['april']['sale'].sum(),2)
        m_1 = round(df['may']['sale'].sum(),2)
        m_2 = round(df['june']['sale'].sum(),2)
        print('THIS IS THE 2 REPORT',end="\n\n\n")
        
    if b == 'Q3':    
        month = ['july','august','september']
        df = pd.read_excel(filename,sheet_name=month)
        m_0 = round(df['july']['sale'].sum(),2)
        m_1 = round(df['august']['sale'].sum(),2)
        m_2 = round(df['september']['sale'].sum(),2)
        print('THIS IS THE Q3 REPORT',end="\n\n\n")
        
    if b == 'Q4':    
        month = ['october','november','december']
        df = pd.read_excel(filename,sheet_name=month)
        m_0 = round(df['october']['sale'].sum(),2)
        m_1 = round(df['november']['sale'].sum(),2)
        m_2 = round(df['december']['sale'].sum(),2)
        print('THIS IS THE Q4 REPORT',end="\n\n\n")
    
    quarterly_totals = df[month[0]],df[month[1]],df[month[2]]
    
    q_total = pd.concat(quarterly_totals)


    # quarterly data
    print('Quarterly Totals:'.upper())
    print(q_total.groupby('item').sum().drop('price', axis=1),end="\n\n")
    print('the total for the quarter: $'.upper(),round(q_total['sale'].sum(),2),end="\n\n\n")
    
    print(df[month[0]].groupby('item').sum().drop('price', axis=1),end="\n\n")
    print('the total for '.upper(),month[0].upper(),': $',m_0, end="\n\n\n")
    
    print(df[month[1]].groupby('item').sum().drop('price', axis=1),end="\n\n")
    print('the total for '.upper(),month[1].upper(),': $',m_1, end="\n\n\n")
    
    print(df[month[2]].groupby('item').sum().drop('price', axis=1),end="\n\n")
    print('the total for '.upper(),month[2].upper(),': $',m_2, end="\n\n\n")
    
audit()
